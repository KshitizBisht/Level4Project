{
  "nbformat": 4,
  "nbformat_minor": 0,
  "metadata": {
    "colab": {
      "name": "PoseExtraction.ipynb",
      "provenance": [],
      "collapsed_sections": []
    },
    "kernelspec": {
      "name": "python3",
      "display_name": "Python 3"
    },
    "accelerator": "GPU"
  },
  "cells": [
    {
      "metadata": {
        "id": "X38L6tanrnrB"
      },
      "cell_type": "markdown",
      "source": [
        "This file was used to extract and combine poses taken from the video. Since each extraction for each video was done throughout the project, each video was processed one by one. This code was used a utility code to provide poses thats why the code had almost no comments. The code was taken from the notebook that uses an open source project [CMU-Perceptual-Computing-Lab/openpose](https://github.com/CMU-Perceptual-Computing-Lab/openpose.git)\n",
        "\n",
        "## Install OpenPose"
      ]
    },
    {
      "cell_type": "code",
      "source": [
        "from google.colab import drive\n",
        "drive.mount('/content/drive')"
      ],
      "metadata": {
        "colab": {
          "base_uri": "https://localhost:8080/"
        },
        "id": "NMMMDNLkhdJW",
        "outputId": "2637f9da-46d4-4758-bdc4-1718785699d1"
      },
      "execution_count": 1,
      "outputs": [
        {
          "output_type": "stream",
          "name": "stdout",
          "text": [
            "Mounted at /content/drive\n"
          ]
        }
      ]
    },
    {
      "cell_type": "markdown",
      "source": [
        "The drive was mounted on the colab to keep a backup file of poses."
      ],
      "metadata": {
        "id": "xY8qFbkc44bT"
      }
    },
    {
      "metadata": {
        "id": "FOdkDhb6ga6N"
      },
      "cell_type": "code",
      "source": [
        "import os\n",
        "from os.path import exists, join, basename, splitext\n",
        "\n",
        "git_repo_url = 'https://github.com/CMU-Perceptual-Computing-Lab/openpose.git'\n",
        "project_name = splitext(basename(git_repo_url))[0]\n",
        "if not exists(project_name):\n",
        "  # see: https://github.com/CMU-Perceptual-Computing-Lab/openpose/issues/949\n",
        "  # install new CMake becaue of CUDA10\n",
        "  !wget -q https://cmake.org/files/v3.13/cmake-3.13.0-Linux-x86_64.tar.gz\n",
        "  !tar xfz cmake-3.13.0-Linux-x86_64.tar.gz --strip-components=1 -C /usr/local\n",
        "  # clone openpose\n",
        "  !git clone -q --depth 1 $git_repo_url\n",
        "  !sed -i 's/execute_process(COMMAND git checkout master WORKING_DIRECTORY ${CMAKE_SOURCE_DIR}\\/3rdparty\\/caffe)/execute_process(COMMAND git checkout f019d0dfe86f49d1140961f8c7dec22130c83154 WORKING_DIRECTORY ${CMAKE_SOURCE_DIR}\\/3rdparty\\/caffe)/g' openpose/CMakeLists.txt\n",
        "  # install system dependencies\n",
        "  !apt-get -qq install -y libatlas-base-dev libprotobuf-dev libleveldb-dev libsnappy-dev libhdf5-serial-dev protobuf-compiler libgflags-dev libgoogle-glog-dev liblmdb-dev opencl-headers ocl-icd-opencl-dev libviennacl-dev\n",
        "  # install python dependencies\n",
        "  !pip install -q youtube-dl\n",
        "  # build openpose\n",
        "  !cd openpose && rm -rf build || true && mkdir build && cd build && cmake .. && make -j`nproc`\n",
        "  \n",
        "from IPython.display import YouTubeVideo"
      ],
      "execution_count": null,
      "outputs": []
    },
    {
      "metadata": {
        "id": "n5L3Z5YVrZ2R"
      },
      "cell_type": "markdown",
      "source": [
        "## Detect poses on a test video"
      ]
    },
    {
      "metadata": {
        "id": "oNASdyyiO65I"
      },
      "cell_type": "code",
      "source": [
        "!cd openpose && ./build/examples/openpose/openpose.bin --video /content/drive/MyDrive/Caitlinwalk.mp4 --write_json ./output/ --display 0  --write_video ../openpose.avi\n",
        "# convert the result into MP4\n",
        "!ffmpeg -y -loglevel info -i openpose.avi output.mp4"
      ],
      "execution_count": null,
      "outputs": []
    },
    {
      "metadata": {
        "id": "kDDkgCCSrFTv"
      },
      "cell_type": "markdown",
      "source": [
        "visualize the result:"
      ]
    },
    {
      "metadata": {
        "id": "nZ3Ud9zLgOoQ"
      },
      "cell_type": "code",
      "source": [
        "import io\n",
        "import base64\n",
        "from IPython.display import HTML\n",
        "\n",
        "def show_local_mp4_video(file_name, width=640, height=480):\n",
        "  video_encoded = base64.b64encode(io.open(file_name, 'rb').read())\n",
        "  return HTML(data='''<video width=\"{0}\" height=\"{1}\" alt=\"test\" controls>\n",
        "                        <source src=\"data:video/mp4;base64,{2}\" type=\"video/mp4\" />\n",
        "                      </video>'''.format(width, height, video_encoded.decode('ascii')))\n",
        "\n",
        "show_local_mp4_video('/content/drive/MyDrive/output.mp4', width=960, height=720)"
      ],
      "execution_count": null,
      "outputs": []
    },
    {
      "cell_type": "code",
      "source": [
        "import os,json\n",
        "import numpy as np\n",
        "path_to_json = '/content/openpose/output/'\n",
        "final = []\n",
        "number = 0\n",
        "for file_name in [file for file in sorted(os.listdir(path_to_json)) if file.endswith('.json')]:\n",
        "  with open(path_to_json + file_name) as json_file:\n",
        "    d = json.load(json_file)\n",
        "    \n",
        "    for person in d['people']:\n",
        "     \n",
        "      A = []\n",
        "      A = [person['pose_keypoints_2d']]\n",
        "      X = np.asarray(A)\n",
        "      even = np.arange(0, X.shape[1], 3)\n",
        "      odd = np.arange(1, X.shape[1], 3)\n",
        "      X1 =  X[:,even]\n",
        "      X2 = X[:,odd]\n",
        "      Xch = np.dstack((X1,X2))\n",
        "      number += 1\n",
        "      if(len(final) == 0):\n",
        "        final = Xch\n",
        "      else:\n",
        "        final = np.concatenate((final, Xch), axis=0)\n",
        "\n",
        "    \n",
        "    if(number == 660): break\n",
        "                "
      ],
      "metadata": {
        "id": "ml9iqR8iwJMT"
      },
      "execution_count": 333,
      "outputs": []
    },
    {
      "cell_type": "code",
      "source": [
        "print(final.shape)"
      ],
      "metadata": {
        "id": "zZYdIyw1NO4t"
      },
      "execution_count": null,
      "outputs": []
    },
    {
      "cell_type": "code",
      "source": [
        "np.save(\"walk.npy\",final)"
      ],
      "metadata": {
        "id": "glkUDY5RwiAP"
      },
      "execution_count": 335,
      "outputs": []
    },
    {
      "cell_type": "code",
      "source": [
        "# This process was done manually. So, it had to be sure that pose frame had a proper label\n",
        "knocking = [1.,0.,0.,0.]\n",
        "lifting = [0.,1.,0.,0.]\n",
        "throwing = [0.,0.,1.,0.]\n",
        "walking = [0.,0.,0.,1.]\n",
        "knocking = np.tile(knocking,(44,60,1))\n",
        "lifting = np.tile(lifting,(44,60,1))\n",
        "throwing = np.tile(throwing,(44,60,1))\n",
        "walking = np.tile(walking,(44,60,1))\n",
        "y_train = np.vstack((knocking,throwing))\n",
        "y_train = np.vstack((y_train,lifting))\n",
        "np.save(\"labels.npy\", y_train)\n",
        "y_train.shape"
      ],
      "metadata": {
        "colab": {
          "base_uri": "https://localhost:8080/"
        },
        "id": "ifLYGtX1lLNq",
        "outputId": "70422d8b-0f28-4af9-8c6b-7049ce3e79ba"
      },
      "execution_count": 288,
      "outputs": [
        {
          "output_type": "execute_result",
          "data": {
            "text/plain": [
              "(132, 60, 4)"
            ]
          },
          "metadata": {},
          "execution_count": 288
        }
      ]
    },
    {
      "cell_type": "code",
      "source": [
        ""
      ],
      "metadata": {
        "id": "jSEdzGr_lpw9"
      },
      "execution_count": null,
      "outputs": []
    }
  ]
}