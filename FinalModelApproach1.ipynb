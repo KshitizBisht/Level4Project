{
 "cells": [
  {
   "cell_type": "code",
   "execution_count": 3,
   "metadata": {},
   "outputs": [],
   "source": [
    "import numpy as np"
   ]
  },
  {
   "cell_type": "code",
   "execution_count": 4,
   "metadata": {},
   "outputs": [],
   "source": [
    "# Loading the pose training and validating data\n",
    "trainX = np.load(\"training/finaltraining_data.npy\", allow_pickle=True)\n",
    "trainY = np.load(\"training/finaltraininglabels_data.npy\", allow_pickle=True)\n",
    "testX = np.load(\"training/validation_data.npy\", allow_pickle=True)\n",
    "testY = np.load(\"training/validation_data_labels.npy\", allow_pickle=True)"
   ]
  },
  {
   "cell_type": "code",
   "execution_count": 937,
   "metadata": {},
   "outputs": [
    {
     "data": {
      "text/plain": [
       "(502, 60, 25, 2)"
      ]
     },
     "execution_count": 937,
     "metadata": {},
     "output_type": "execute_result"
    }
   ],
   "source": [
    "trainX.shape"
   ]
  },
  {
   "cell_type": "code",
   "execution_count": 938,
   "metadata": {},
   "outputs": [
    {
     "data": {
      "text/plain": [
       "(502, 60, 4)"
      ]
     },
     "execution_count": 938,
     "metadata": {},
     "output_type": "execute_result"
    }
   ],
   "source": [
    "trainY.shape"
   ]
  },
  {
   "cell_type": "code",
   "execution_count": 939,
   "metadata": {},
   "outputs": [
    {
     "data": {
      "text/plain": [
       "(242, 60, 4)"
      ]
     },
     "execution_count": 939,
     "metadata": {},
     "output_type": "execute_result"
    }
   ],
   "source": [
    "testY.shape"
   ]
  },
  {
   "cell_type": "code",
   "execution_count": 940,
   "metadata": {},
   "outputs": [
    {
     "data": {
      "text/plain": [
       "(242, 60, 25, 2)"
      ]
     },
     "execution_count": 940,
     "metadata": {},
     "output_type": "execute_result"
    }
   ],
   "source": [
    "testX.shape"
   ]
  },
  {
   "cell_type": "code",
   "execution_count": 5,
   "metadata": {},
   "outputs": [
    {
     "name": "stdout",
     "output_type": "stream",
     "text": [
      "Model: \"sequential_1\"\n",
      "_________________________________________________________________\n",
      "Layer (type)                 Output Shape              Param #   \n",
      "=================================================================\n",
      "time_distributed (TimeDistri (None, 60, 25, 64)        448       \n",
      "_________________________________________________________________\n",
      "time_distributed_1 (TimeDist (None, 60, 25, 64)        256       \n",
      "_________________________________________________________________\n",
      "time_distributed_2 (TimeDist (None, 60, 12, 64)        0         \n",
      "_________________________________________________________________\n",
      "time_distributed_3 (TimeDist (None, 60, 12, 64)        12352     \n",
      "_________________________________________________________________\n",
      "time_distributed_4 (TimeDist (None, 60, 12, 64)        256       \n",
      "_________________________________________________________________\n",
      "time_distributed_5 (TimeDist (None, 60, 6, 64)         0         \n",
      "_________________________________________________________________\n",
      "time_distributed_6 (TimeDist (None, 60, 6, 64)         0         \n",
      "_________________________________________________________________\n",
      "batch_normalization_2 (Batch (None, 60, 6, 64)         256       \n",
      "_________________________________________________________________\n",
      "time_distributed_7 (TimeDist (None, 60, 384)           0         \n",
      "_________________________________________________________________\n",
      "lstm (LSTM)                  (None, 60, 40)            68000     \n",
      "_________________________________________________________________\n",
      "time_distributed_8 (TimeDist (None, 60, 4)             164       \n",
      "=================================================================\n",
      "Total params: 81,732\n",
      "Trainable params: 81,348\n",
      "Non-trainable params: 384\n",
      "_________________________________________________________________\n",
      "(None, 60, 4)\n"
     ]
    }
   ],
   "source": [
    "# CNN + LSTM model\n",
    "import matplotlib.pyplot as plt\n",
    "import keras\n",
    "from keras.models import Sequential\n",
    "from keras.layers import Dense, Dropout, Flatten, BatchNormalization\n",
    "from keras.layers.pooling import GlobalAveragePooling1D\n",
    "from keras.layers import Conv1D, MaxPooling1D, LSTM\n",
    "from keras.layers.wrappers import TimeDistributed\n",
    "from keras.optimizers import Adam\n",
    "from sklearn.metrics import confusion_matrix\n",
    "from keras.layers import Conv2D\n",
    "from keras.layers import MaxPool1D, MaxPool2D\n",
    "import tensorflow as tf\n",
    "\n",
    "cnn = Sequential()\n",
    "cnn.add(TimeDistributed(keras.layers.Conv1D(filters=64, kernel_size=3,padding='same', activation='relu'), input_shape=trainX.shape[1:]))\n",
    "cnn.add(TimeDistributed(BatchNormalization()))\n",
    "cnn.add(TimeDistributed(MaxPooling1D(2,2)))\n",
    "cnn.add(TimeDistributed(keras.layers.Conv1D(filters=64, kernel_size=3,padding='same', activation='relu'), input_shape=trainX.shape[1:]))\n",
    "cnn.add(TimeDistributed(BatchNormalization()))\n",
    "cnn.add(TimeDistributed(MaxPooling1D(2,2)))\n",
    "cnn.add(TimeDistributed(Dropout(0.5)))\n",
    "cnn.add(BatchNormalization())\n",
    "cnn.add(TimeDistributed(Flatten()))\n",
    "cnn.add(LSTM(40,unit_forget_bias=0.4, return_sequences=True))\n",
    "cnn.add(TimeDistributed(Dense(4, activation='softmax')))\n",
    "cnn.summary()\n",
    "print(cnn.output_shape)"
   ]
  },
  {
   "cell_type": "code",
   "execution_count": 8,
   "metadata": {},
   "outputs": [],
   "source": [
    "# Compiling the model\n",
    "adam = Adam(lr=0.0001)\n",
    "\n",
    "cnn.compile(loss='categorical_crossentropy',\n",
    "              optimizer= adam,\n",
    "              metrics=['accuracy'])"
   ]
  },
  {
   "cell_type": "code",
   "execution_count": 9,
   "metadata": {
    "scrolled": true
   },
   "outputs": [],
   "source": [
    "# history = cnn.fit(trainX, trainY, validation_data = (testX,testY), epochs=200)"
   ]
  },
  {
   "cell_type": "code",
   "execution_count": 10,
   "metadata": {},
   "outputs": [],
   "source": [
    "# Load the weights\n",
    "cnn.load_weights(\"weights/final_model.h5\")"
   ]
  },
  {
   "cell_type": "code",
   "execution_count": 11,
   "metadata": {},
   "outputs": [
    {
     "name": "stdout",
     "output_type": "stream",
     "text": [
      "16/16 [==============================] - 0s 22ms/step - loss: 0.0713 - accuracy: 0.9767\n",
      "8/8 [==============================] - 0s 20ms/step - loss: 0.0670 - accuracy: 0.9799\n",
      "0.9766932129859924\n",
      "0.9798898100852966\n"
     ]
    }
   ],
   "source": [
    "# validating the model on training and validation data\n",
    "_, train_acc = cnn.evaluate(trainX, trainY)\n",
    "_, test_acc = cnn.evaluate(testX, testY)\n",
    "print(train_acc)\n",
    "print(test_acc)"
   ]
  },
  {
   "cell_type": "code",
   "execution_count": 12,
   "metadata": {},
   "outputs": [],
   "source": [
    "# Loading a testing throwing pose data\n",
    "x_test = np.load(\"data/shi_throw.npy\", allow_pickle=True)\n",
    "x_test = x_test[:240,...]\n",
    "x_test = np.asarray(x_test).astype(np.float32)\n",
    "x_test = x_test.reshape((4,60,25,2))"
   ]
  },
  {
   "cell_type": "code",
   "execution_count": 13,
   "metadata": {},
   "outputs": [],
   "source": [
    "motion = [\"knocking\", \"lifting\", \"throwing\", \"walking\"]"
   ]
  },
  {
   "cell_type": "code",
   "execution_count": 14,
   "metadata": {},
   "outputs": [
    {
     "data": {
      "text/plain": [
       "array([2, 2, 2, 2, 2, 2, 2, 2, 2, 2, 2, 2, 2, 2, 2, 2, 2, 2, 2, 2, 2, 2,\n",
       "       2, 2, 2, 2, 2, 2, 2, 2, 2, 2, 2, 2, 2, 2, 2, 2, 2, 2, 2, 2, 2, 2,\n",
       "       2, 2, 2, 2, 2, 2, 2, 2, 2, 2, 2, 2, 2, 2, 2, 2])"
      ]
     },
     "execution_count": 14,
     "metadata": {},
     "output_type": "execute_result"
    }
   ],
   "source": [
    "Yht_pred = cnn.predict(np.asarray(x_test))\n",
    "a = np.argmax(Yht_pred[0],axis = 1)\n",
    "(np.argmax(Yht_pred[1],axis = 1))"
   ]
  },
  {
   "cell_type": "code",
   "execution_count": null,
   "metadata": {},
   "outputs": [],
   "source": [
    "# The results above shows the predicted frames with labels and can also be used like in the cell below"
   ]
  },
  {
   "cell_type": "code",
   "execution_count": 15,
   "metadata": {},
   "outputs": [
    {
     "data": {
      "text/plain": [
       "'throwing'"
      ]
     },
     "execution_count": 15,
     "metadata": {},
     "output_type": "execute_result"
    }
   ],
   "source": [
    "import statistics\n",
    "motion[statistics.mode(np.argmax(Yht_pred[1],axis = 1))]"
   ]
  },
  {
   "cell_type": "code",
   "execution_count": null,
   "metadata": {},
   "outputs": [],
   "source": []
  }
 ],
 "metadata": {
  "kernelspec": {
   "display_name": "Python 3",
   "language": "python",
   "name": "python3"
  },
  "language_info": {
   "codemirror_mode": {
    "name": "ipython",
    "version": 3
   },
   "file_extension": ".py",
   "mimetype": "text/x-python",
   "name": "python",
   "nbconvert_exporter": "python",
   "pygments_lexer": "ipython3",
   "version": "3.7.6"
  }
 },
 "nbformat": 4,
 "nbformat_minor": 4
}
